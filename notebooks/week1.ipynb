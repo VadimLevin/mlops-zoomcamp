{
 "cells": [
  {
   "cell_type": "markdown",
   "metadata": {},
   "source": [
    "# Week 1\n",
    "\n",
    "[NYC taxi dataset](https://www1.nyc.gov/site/tlc/about/tlc-trip-record-data.page) \"For-Hire Vehicle Trip Records\" for January (Train) and February (Validation) 2021."
   ]
  },
  {
   "cell_type": "code",
   "execution_count": 1,
   "metadata": {},
   "outputs": [],
   "source": [
    "from typing import Tuple, Optional\n",
    "import tempfile\n",
    "import hashlib\n",
    "from pathlib import Path\n",
    "import os\n",
    "import requests\n",
    "\n",
    "def fetch(url: str, force: bool = False) -> bytes:\n",
    "    cached = Path(tempfile.gettempdir(),\n",
    "                  hashlib.md5(url.encode(\"utf-8\")).hexdigest())\n",
    "    has_cached = cached.is_file() and os.stat(cached).st_size > 0\n",
    "    is_download_required = force or not has_cached\n",
    "    if is_download_required:\n",
    "        print(\"Fetching\", url)\n",
    "        response = requests.get(url)\n",
    "        response.raise_for_status()\n",
    "        data = response.content\n",
    "\n",
    "        temp = cached.with_suffix(\".tmp\")\n",
    "        with open(temp, \"wb\") as fh:\n",
    "            fh.write(data)\n",
    "        temp.replace(cached)\n",
    "    else:\n",
    "        print(\"Using cached\", url, \"data\")\n",
    "        with open(cached, \"rb\") as fh:\n",
    "            data = fh.read()\n",
    "    return data\n"
   ]
  },
  {
   "cell_type": "markdown",
   "metadata": {},
   "source": [
    "Fetching data"
   ]
  },
  {
   "cell_type": "code",
   "execution_count": 2,
   "metadata": {},
   "outputs": [
    {
     "name": "stdout",
     "output_type": "stream",
     "text": [
      "Using cached https://nyc-tlc.s3.amazonaws.com/trip+data/fhv_tripdata_2021-01.parquet data\n",
      "Using cached https://nyc-tlc.s3.amazonaws.com/trip+data/fhv_tripdata_2021-02.parquet data\n"
     ]
    }
   ],
   "source": [
    "january_data = fetch(\"https://nyc-tlc.s3.amazonaws.com/trip+data/fhv_tripdata_2021-01.parquet\")\n",
    "february_data = fetch(\"https://nyc-tlc.s3.amazonaws.com/trip+data/fhv_tripdata_2021-02.parquet\")"
   ]
  },
  {
   "cell_type": "code",
   "execution_count": 3,
   "metadata": {},
   "outputs": [
    {
     "name": "stdout",
     "output_type": "stream",
     "text": [
      "===== January =====\n",
      "Shape: (1154112, 7)\n",
      "Columns: Index(['dispatching_base_num', 'pickup_datetime', 'dropOff_datetime',\n",
      "       'PUlocationID', 'DOlocationID', 'SR_Flag', 'Affiliated_base_number'],\n",
      "      dtype='object')\n",
      "===== January duration stats =====\n",
      "count   1154112.000000\n",
      "mean         19.167224\n",
      "std         398.692165\n",
      "min           0.016667\n",
      "1%            0.416667\n",
      "5%            3.016667\n",
      "25%           7.766667\n",
      "50%          13.400000\n",
      "75%          22.283333\n",
      "95%          47.250000\n",
      "99%          90.300000\n",
      "max      423371.050000\n",
      "Name: duration_in_min, dtype: float64\n",
      "===== February =====\n",
      "Shape: (1037692, 7)\n",
      "Columns: Index(['dispatching_base_num', 'pickup_datetime', 'dropOff_datetime',\n",
      "       'PUlocationID', 'DOlocationID', 'SR_Flag', 'Affiliated_base_number'],\n",
      "      dtype='object')\n",
      "===== February duration stats =====\n",
      "count   1037692.000000\n",
      "mean         20.706986\n",
      "std         161.108374\n",
      "min           0.016667\n",
      "1%            0.716667\n",
      "5%            3.033333\n",
      "25%           8.000000\n",
      "50%          14.100000\n",
      "75%          23.733333\n",
      "95%          52.250000\n",
      "99%         105.000000\n",
      "max      110919.000000\n",
      "Name: duration_in_min, dtype: float64\n"
     ]
    }
   ],
   "source": [
    "import pandas as pd\n",
    "import io\n",
    "\n",
    "pd.set_option(\"float_format\", \"{:5f}\".format)\n",
    "\n",
    "def load_data_from_bytes(name: str, dataframe_bytes: bytes) -> pd.DataFrame:\n",
    "    df = pd.read_parquet(io.BytesIO(dataframe_bytes))\n",
    "    df.name = name\n",
    "    print(\"=====\", df.name, \"=====\")\n",
    "    print(\"Shape:\", df.shape)\n",
    "    print(\"Columns:\", df.columns)\n",
    "\n",
    "    df[\"duration_in_min\"] = (df.dropOff_datetime - df.pickup_datetime).apply(\n",
    "        lambda diff: diff.total_seconds() / 60.\n",
    "    )\n",
    "    print(\"=====\", df.name, \"duration stats =====\")\n",
    "    print(df.duration_in_min.describe(\n",
    "        percentiles=(0.01, 0.05, 0.25, 0.5, 0.75, 0.95, 0.99)\n",
    "    ))\n",
    "    return df\n",
    "\n",
    "\n",
    "january_df = load_data_from_bytes(\"January\", january_data)\n",
    "february_df = load_data_from_bytes(\"February\", february_data)"
   ]
  },
  {
   "cell_type": "markdown",
   "metadata": {},
   "source": [
    "Removing outliers with duration outside of the (1, 60) minutes range"
   ]
  },
  {
   "cell_type": "code",
   "execution_count": 4,
   "metadata": {},
   "outputs": [
    {
     "name": "stdout",
     "output_type": "stream",
     "text": [
      "January duration outliers count: 44286\n",
      "count   1109826.000000\n",
      "mean         16.247253\n",
      "std          11.551502\n",
      "min           1.000000\n",
      "25%           7.850000\n",
      "50%          13.233333\n",
      "75%          21.466667\n",
      "max          60.000000\n",
      "Name: duration_in_min, dtype: float64\n",
      "NaNs percentage\n",
      "PUlocationID   0.835273\n",
      "DOlocationID   0.133270\n",
      "dtype: float64\n",
      "February duration outliers count: 47579\n",
      "count   990113.000000\n",
      "mean        16.859266\n",
      "std         11.957480\n",
      "min          1.000000\n",
      "25%          8.000000\n",
      "50%         13.833333\n",
      "75%         22.466667\n",
      "max         60.000000\n",
      "Name: duration_in_min, dtype: float64\n",
      "NaNs percentage\n",
      "PUlocationID   0.857135\n",
      "DOlocationID   0.136106\n",
      "dtype: float64\n"
     ]
    }
   ],
   "source": [
    "def preprocess(df: pd.DataFrame) -> pd.DataFrame:\n",
    "    mask = (df.duration_in_min >= 1) & (df.duration_in_min <= 60)\n",
    "    outliers_count = df.shape[0] - mask.sum(axis=0)\n",
    "    print(df.name, \"duration outliers count:\", outliers_count)\n",
    "    name = df.name\n",
    "    df = df[mask].copy()\n",
    "    df.name = name\n",
    "    print(df.duration_in_min.describe())\n",
    "    locations = [\"PUlocationID\", \"DOlocationID\"]\n",
    "    print(\"NaNs percentage\")\n",
    "    print(df[locations].isnull().sum(axis=0) / df.shape[0])\n",
    "    df.loc[:, locations] = df[locations].fillna(-1).astype(int).astype(str)\n",
    "    return df\n",
    "\n",
    "january_df_preproc = preprocess(january_df)\n",
    "february_df_preproc = preprocess(february_df)"
   ]
  },
  {
   "cell_type": "markdown",
   "metadata": {},
   "source": [
    "# Training"
   ]
  },
  {
   "cell_type": "code",
   "execution_count": 5,
   "metadata": {},
   "outputs": [],
   "source": [
    "import numpy as np\n",
    "from sklearn.feature_extraction import DictVectorizer\n",
    "from sklearn.linear_model import LinearRegression\n",
    "from sklearn.metrics import mean_squared_error\n",
    "import seaborn as sns\n",
    "import matplotlib.pyplot as plt\n",
    "from functools import partial\n",
    "\n",
    "RMSE = partial(mean_squared_error, squared=False)\n"
   ]
  },
  {
   "cell_type": "code",
   "execution_count": 9,
   "metadata": {},
   "outputs": [],
   "source": [
    "def extract_features(df: pd.DataFrame,\n",
    "                     cat_transformer: Optional[DictVectorizer] = None) \\\n",
    "        -> Tuple[np.array, np.array, DictVectorizer]:\n",
    "    print(df.name)\n",
    "    print(df.duration_in_min.describe())\n",
    "    categorical_features = [\"PUlocationID\", \"DOlocationID\"]\n",
    "    cat_features_dict = df[categorical_features].to_dict(orient=\"records\")\n",
    "    if cat_transformer is None:\n",
    "        cat_transformer = DictVectorizer()\n",
    "        features = cat_transformer.fit_transform(cat_features_dict)\n",
    "        print(\"Number of rows in one-hot encoding matrix\",\n",
    "              len(cat_transformer.get_feature_names_out()))\n",
    "    else:\n",
    "        features = cat_transformer.transform(cat_features_dict)\n",
    "    values = df[\"duration_in_min\"].values\n",
    "    return features, values, cat_transformer\n",
    "\n",
    "\n",
    "def evaluate_model(model, metrics: dict, features, values) -> dict:\n",
    "    predicted_values = model.predict(features)\n",
    "    metrics_values = {}\n",
    "    for metric_name, metric_fn in metrics.items():\n",
    "        metric_val = metric_fn(values, predicted_values)\n",
    "        print(metric_name, \":\", metric_val)\n",
    "        metrics_values[metric_name] = metric_val \n",
    "    sns.histplot([predicted_values, values], kde=True, legend='full')\n",
    "    plt.legend([\"predicted\", \"gt\"])\n",
    "    plt.show()\n",
    "    return metrics_values\n",
    "\n",
    "\n",
    "def train(train_df: pd.DataFrame, test_df: pd.DataFrame, metrics: dict,\n",
    "          model_type: type, *model_args, **model_kwargs):\n",
    "    print(\"Extracting features...\")\n",
    "    train_features, train_values, cat_transformer = extract_features(train_df)\n",
    "    test_features, test_values, _ = extract_features(test_df, cat_transformer)\n",
    "    print(\"Training model type:\", model_type)\n",
    "\n",
    "    model = model_type(*model_args, **model_kwargs)\n",
    "    model.fit(train_features, train_values)\n",
    "    print(\"Train metrics\")\n",
    "    train_metrics = evaluate_model(model, metrics, train_features, train_values)\n",
    "    \n",
    "    print(\"Test metrics\")\n",
    "    test_metrics = evaluate_model(model, metrics, test_features, test_values)\n",
    "\n",
    "    return model, train_metrics, test_metrics, cat_transformer"
   ]
  },
  {
   "cell_type": "code",
   "execution_count": 10,
   "metadata": {},
   "outputs": [
    {
     "name": "stdout",
     "output_type": "stream",
     "text": [
      "Extracting features...\n",
      "January\n",
      "count   1109826.000000\n",
      "mean         16.247253\n",
      "std          11.551502\n",
      "min           1.000000\n",
      "25%           7.850000\n",
      "50%          13.233333\n",
      "75%          21.466667\n",
      "max          60.000000\n",
      "Name: duration_in_min, dtype: float64\n",
      "Number of rows in one-hot encoding matrix 525\n",
      "February\n",
      "count   990113.000000\n",
      "mean        16.859266\n",
      "std         11.957480\n",
      "min          1.000000\n",
      "25%          8.000000\n",
      "50%         13.833333\n",
      "75%         22.466667\n",
      "max         60.000000\n",
      "Name: duration_in_min, dtype: float64\n",
      "Training model type: <class 'sklearn.linear_model._base.LinearRegression'>\n",
      "Train metrics\n",
      "RMSE : 10.528519463473573\n"
     ]
    },
    {
     "data": {
      "image/png": "[encoded data removed]",
      "text/plain": [
       "<Figure size 432x288 with 1 Axes>"
      ]
     },
     "metadata": {
      "needs_background": "light"
     },
     "output_type": "display_data"
    },
    {
     "name": "stdout",
     "output_type": "stream",
     "text": [
      "Test metrics\n",
      "RMSE : 11.014288298130957\n"
     ]
    },
    {
     "data": {
      "image/png": "[encoded data removed]",
      "text/plain": [
       "<Figure size 432x288 with 1 Axes>"
      ]
     },
     "metadata": {
      "needs_background": "light"
     },
     "output_type": "display_data"
    }
   ],
   "source": [
    "metrics = {\n",
    "    \"RMSE\": RMSE\n",
    "}\n",
    "model, train_metric, test_metrics, _ = train(january_df_preproc, february_df_preproc,\n",
    "                                             metrics, LinearRegression)\n"
   ]
  },
  {
   "cell_type": "code",
   "execution_count": null,
   "metadata": {},
   "outputs": [],
   "source": []
  }
 ],
 "metadata": {
  "interpreter": {
   "hash": "c82851e5459c2b76ba18ac85541410dbd5afb70d39786ba3c2c4c0ba01aff8fe"
  },
  "kernelspec": {
   "display_name": "Python 3.9.12 ('venv': venv)",
   "language": "python",
   "name": "python3"
  },
  "language_info": {
   "codemirror_mode": {
    "name": "ipython",
    "version": 3
   },
   "file_extension": ".py",
   "mimetype": "text/x-python",
   "name": "python",
   "nbconvert_exporter": "python",
   "pygments_lexer": "ipython3",
   "version": "3.9.12"
  },
  "orig_nbformat": 4
 },
 "nbformat": 4,
 "nbformat_minor": 2
}
